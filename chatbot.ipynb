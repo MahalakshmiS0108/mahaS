{
 "cells": [
  {
   "cell_type": "code",
   "execution_count": 5,
   "id": "ce0b1de3",
   "metadata": {},
   "outputs": [],
   "source": [
    "import en_core_web_lg \n",
    "import numpy as np\n",
    "import re \n",
    "import spacy \n",
    "\n",
    "from collections import defaultdict\n",
    "from sklearn.svm import SVC \n",
    "output_format = \"IN: {input}\\nOUT: {output}\\n\" + \"_\"*50"
   ]
  },
  {
   "cell_type": "code",
   "execution_count": 6,
   "id": "12142b8f",
   "metadata": {},
   "outputs": [],
   "source": [
    "responses_exact = {\n",
    "    \"what would you like to eat tonight?\": \"Pasta with salmon and red pesto please!\",\n",
    "    \"what time will you be home tonight?\": \"I will be home around 6 pm.\",\n",
    "    \"default\": \"I love you too!\"\n",
    "}\n",
    "\n",
    "def respond_exact(text):\n",
    "    response = responses_exact.get(text.lower(), responses_exact['default'])\n",
    "    return(output_format.format(input=text, output=response))"
   ]
  },
  {
   "cell_type": "code",
   "execution_count": 7,
   "id": "b4f55989",
   "metadata": {},
   "outputs": [
    {
     "name": "stdout",
     "output_type": "stream",
     "text": [
      "IN: What would you like to eat tonight?\n",
      "OUT: Pasta with salmon and red pesto please!\n",
      "__________________________________________________\n",
      "__________________________________________________\n",
      "IN: What time will you be home tonight?\n",
      "OUT: I will be home around 6 pm.\n",
      "__________________________________________________\n",
      "__________________________________________________\n",
      "IN: I just found out my boss is leaving the company.\n",
      "OUT: I love you too!\n",
      "__________________________________________________\n"
     ]
    }
   ],
   "source": [
    "print(respond_exact(\"What would you like to eat tonight?\"))\n",
    "print(\"_\"*50)\n",
    "print(respond_exact(\"What time will you be home tonight?\"))\n",
    "print(\"_\"*50)\n",
    "print(respond_exact(\"I just found out my boss is leaving the company.\"))"
   ]
  },
  {
   "cell_type": "code",
   "execution_count": 8,
   "id": "ee45f759",
   "metadata": {},
   "outputs": [],
   "source": [
    " \n",
    "intent_keywords = {\n",
    "    'dinner_preference': ['eat', 'dinner', 'food', 'cook', 'craving'],\n",
    "    'arrival_time': ['time', 'when', 'get here', 'be home']\n",
    "}\n",
    "\n",
    "patterns = {intent: re.compile('|'.join(keys)) for intent, keys in intent_keywords.items()}\n",
    "\n",
    "def get_intent_re(message):\n",
    "    for intent, pattern in patterns.items(): \n",
    "        if pattern.search(message):\n",
    "            return(intent)\n",
    "    else:\n",
    "        return('default')\n",
    "\n",
    "responses_re = {\n",
    "    \"dinner_preference\":\"Pasta with salmon and red pesto please!\",\n",
    "    \"arrival_time\": \"I will be home around 6 pm.\",\n",
    "    \"default\":\"I like you too!\"\n",
    "}\n",
    "\n",
    "def respond_re(text):\n",
    "    response = responses_re.get(get_intent_re(text))\n",
    "    return(output_format.format(input=text, output=response))"
   ]
  },
  {
   "cell_type": "code",
   "execution_count": 9,
   "id": "0129bcd2",
   "metadata": {},
   "outputs": [
    {
     "name": "stdout",
     "output_type": "stream",
     "text": [
      "IN: what would you like to eat tonight?\n",
      "OUT: Pasta with salmon and red pesto please!\n",
      "__________________________________________________\n",
      "IN: what time will you be home tonight?\n",
      "OUT: I will be home around 6 pm.\n",
      "__________________________________________________\n",
      "IN: I just food out my boss is leaving the company.\n",
      "OUT: Pasta with salmon and red pesto please!\n",
      "__________________________________________________\n"
     ]
    }
   ],
   "source": [
    "print(respond_re(\"what would you like to eat tonight?\"))\n",
    "print(respond_re(\"what time will you be home tonight?\"))\n",
    "print(respond_re(\"I just food out my boss is leaving the company.\"))"
   ]
  },
  {
   "cell_type": "code",
   "execution_count": 10,
   "id": "da7d0b75",
   "metadata": {},
   "outputs": [],
   "source": [
    "\n",
    "training_sentences = [\n",
    "    \"What would you like to have for dinner?\",\n",
    "    \"What do you want to eat tonight?\",\n",
    "    \"I don't know what to cook tonight.\",\n",
    "    \"Do you have any cravings?\",\n",
    "    \"Can I get you something to eat?\", \n",
    "    \"What time will you be home?\",\n",
    "    \"How much longer will you be?\",\n",
    "    \"When can we expect you to get here?\",\n",
    "    \"What's taking you so long?\",\n",
    "    \"At what hour will you be here?\"\n",
    "    \n",
    "]\n",
    "training_intents = [\n",
    "    \"dinner_preference\",\n",
    "    \"dinner_preference\",\n",
    "    \"dinner_preference\",\n",
    "    \"dinner_preference\",\n",
    "    \"dinner_preference\",\n",
    "    \"arrival_time\",\n",
    "    \"arrival_time\",\n",
    "    \"arrival_time\",\n",
    "    \"arrival_time\",\n",
    "    \"arrival_time\"   \n",
    "]"
   ]
  },
  {
   "cell_type": "code",
   "execution_count": 11,
   "id": "c996aa92",
   "metadata": {},
   "outputs": [],
   "source": [
    "nlp = en_core_web_lg.load()"
   ]
  },
  {
   "cell_type": "code",
   "execution_count": 12,
   "id": "6131177f",
   "metadata": {},
   "outputs": [],
   "source": [
    "X_train = np.zeros((len(training_sentences), \n",
    "              nlp('sentences').vocab.vectors_length))\n",
    "\n",
    "for i, sentence in enumerate(training_sentences):\n",
    "    \n",
    "    doc = nlp(sentence)\n",
    "    X_train[i, :] = doc.vector"
   ]
  },
  {
   "cell_type": "code",
   "execution_count": 13,
   "id": "f95e359e",
   "metadata": {},
   "outputs": [
    {
     "data": {
      "text/plain": [
       "SVC(C=1, gamma='auto', probability=True)"
      ]
     },
     "execution_count": 13,
     "metadata": {},
     "output_type": "execute_result"
    }
   ],
   "source": [
    "clf = SVC(C=1, gamma=\"auto\", probability=True)\n",
    "clf.fit(X_train, training_intents)\n"
   ]
  },
  {
   "cell_type": "code",
   "execution_count": 14,
   "id": "4d10d682",
   "metadata": {},
   "outputs": [],
   "source": [
    "def get_intent_ml(text):\n",
    "    doc = nlp(text)\n",
    "    return(clf.predict([doc.vector])[0])"
   ]
  },
  {
   "cell_type": "code",
   "execution_count": 19,
   "id": "327ddc8e",
   "metadata": {},
   "outputs": [
    {
     "name": "stdout",
     "output_type": "stream",
     "text": [
      "IN: what would you like to eat tonight?\n",
      "OUT: Pasta with salmon and red pesto please!\n",
      "__________________________________________________\n",
      "IN: what time will you be home tonight?\n",
      "OUT: I will be home around 6 pm.\n",
      "__________________________________________________\n",
      "IN: l\n",
      "OUT: I will be home around 6 pm.\n",
      "__________________________________________________\n"
     ]
    }
   ],
   "source": [
    "responses_ml = {\n",
    "    \"dinner_preference\":\"Pasta with salmon and red pesto please!\",\n",
    "    \"arrival_time\": \"I will be home around 6 pm.\",\n",
    "    \"default\":\"I like you too!\"\n",
    "}\n",
    "\n",
    "def respond_ml(text):\n",
    "    response = responses_ml.get(get_intent_ml(text), responses_ml[\"default\"])\n",
    "    return(output_format.format(input=text, output=response))\n",
    "print(respond_ml(\"what would you like to eat tonight?\"))\n",
    "print(respond_ml(\"what time will you be home tonight?\"))\n",
    "print(respond_ml(\"l\"))\n"
   ]
  },
  {
   "cell_type": "code",
   "execution_count": 20,
   "id": "412d4376",
   "metadata": {},
   "outputs": [],
   "source": [
    "def get_intent_ml_2(text):\n",
    "    \"\"\"\n",
    "        Returns the intent from a given text, unless the model is not sure, in which case 'default' is returned\n",
    "    \"\"\"\n",
    "    doc = nlp(text)\n",
    "    max_proba = max(clf.predict_proba([doc.vector])[0])\n",
    "    if(max_proba == 0.5):\n",
    "        return('default')\n",
    "    else:\n",
    "        return(clf.predict([doc.vector])[0])\n",
    "\n",
    "def respond_ml_2(text):\n",
    "    response = responses_ml.get(get_intent_ml_2(text), responses_ml[\"default\"])\n",
    "    return(output_format.format(input=text, output=response))\n"
   ]
  },
  {
   "cell_type": "code",
   "execution_count": 21,
   "id": "aa0996a1",
   "metadata": {},
   "outputs": [
    {
     "name": "stdout",
     "output_type": "stream",
     "text": [
      "IN: flowers\n",
      "OUT: I will be home around 6 pm.\n",
      "__________________________________________________\n",
      "IN: flowers\n",
      "OUT: I will be home around 6 pm.\n",
      "__________________________________________________\n"
     ]
    }
   ],
   "source": [
    "print(respond_ml(  'flowers'))\n",
    "print(respond_ml_2('flowers'))"
   ]
  },
  {
   "cell_type": "code",
   "execution_count": 22,
   "id": "53fe306e",
   "metadata": {},
   "outputs": [],
   "source": [
    "def get_all_entities(text):\n",
    "    \"\"\"\n",
    "        Get all entities in a given text, in a text: label_ dictionary\n",
    "    \"\"\"\n",
    "    doc = nlp(text)\n",
    "    \n",
    "    d = defaultdict(list)\n",
    "    for ent in doc.ents:\n",
    "        d[ent.label_].append(ent.text)\n",
    "    return(d)"
   ]
  },
  {
   "cell_type": "code",
   "execution_count": 23,
   "id": "e2fdbf2a",
   "metadata": {},
   "outputs": [
    {
     "name": "stdout",
     "output_type": "stream",
     "text": [
      "[('DATE', ['next tuesday', 'wednesday']), ('TIME', ['tonight'])]\n"
     ]
    }
   ],
   "source": [
    "test_ents = get_all_entities('what would you like to eat tonight?, or next tuesday or wednesday fish football Bengals')\n",
    "print(sorted(test_ents.items()))"
   ]
  },
  {
   "cell_type": "code",
   "execution_count": 25,
   "id": "fad882a8",
   "metadata": {},
   "outputs": [],
   "source": [
    "policy = {\n",
    "    (\"dinner_preference\", \"time and date\"): \"I want to eat pasta\",\n",
    "    (\"dinner_preference\", \"time only\"): \"I want to eat pasta\",\n",
    "    (\"dinner_preference\", \"date only\"): \"I want to eat pasta\",\n",
    "    (\"dinner_preference\", \"none\"): \"When?\",\n",
    "    (\"arrival_time\", \"time and date\"): \"I will be home at six\",\n",
    "    (\"arrival_time\", \"time only\"): \"I will be home at six\",\n",
    "    (\"arrival_time\", \"date only\"): \"I will be home at six\",\n",
    "    (\"arrival_time\", \"none\"): \"When?\",\n",
    "    (\"default\", \"none\"): \"What do you want?\",\n",
    "}"
   ]
  },
  {
   "cell_type": "code",
   "execution_count": 26,
   "id": "432dee57",
   "metadata": {},
   "outputs": [],
   "source": [
    "def respond_ml_3(text):\n",
    "    \"\"\"Check for specification of date and time\n",
    "        If not specified, ask for clarification\n",
    "    \"\"\"\n",
    "    intent = get_intent_ml_2(text)\n",
    "        \n",
    "    if intent != 'default':\n",
    "        entities = get_all_entities(text)\n",
    "        if 'TIME' in entities and 'DATE' in entities:\n",
    "            specification = 'time and date'\n",
    "            time = ' and '.join(entities['DATE']) + ' at ' + ' and '.join(entities['TIME'])\n",
    "        elif 'TIME' in entities:\n",
    "            specification = 'time only'\n",
    "            time = ' and '.join(entities['TIME'])\n",
    "        elif 'DATE' in entities:\n",
    "            specification = 'date only'\n",
    "            time = ' and '.join(entities['DATE'])\n",
    "        else:\n",
    "            specification = 'none'\n",
    "            time = \"\"\n",
    "    else:\n",
    "        specification = 'none'\n",
    "        time = \"\"\n",
    "    \n",
    "    response = policy.get((intent, specification)) + ' ' + time\n",
    "    return(output_format.format(input=text, output=response))"
   ]
  },
  {
   "cell_type": "code",
   "execution_count": 33,
   "id": "6e6a5951",
   "metadata": {},
   "outputs": [
    {
     "name": "stdout",
     "output_type": "stream",
     "text": [
      "IN: what would you like to eat next wednesday, thursday and friday?\n",
      "OUT: I want to eat pasta next wednesday and thursday and friday\n",
      "__________________________________________________\n"
     ]
    }
   ],
   "source": [
    "print(respond_ml_3('what would you like to eat next wednesday, thursday and friday?'))"
   ]
  },
  {
   "cell_type": "code",
   "execution_count": null,
   "id": "a3d95d1d",
   "metadata": {},
   "outputs": [],
   "source": []
  }
 ],
 "metadata": {
  "kernelspec": {
   "display_name": "Python 3 (ipykernel)",
   "language": "python",
   "name": "python3"
  },
  "language_info": {
   "codemirror_mode": {
    "name": "ipython",
    "version": 3
   },
   "file_extension": ".py",
   "mimetype": "text/x-python",
   "name": "python",
   "nbconvert_exporter": "python",
   "pygments_lexer": "ipython3",
   "version": "3.9.13"
  }
 },
 "nbformat": 4,
 "nbformat_minor": 5
}
